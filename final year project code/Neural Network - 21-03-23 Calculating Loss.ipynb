{
 "cells": [
  {
   "cell_type": "code",
   "execution_count": 3,
   "id": "41d179a8",
   "metadata": {},
   "outputs": [
    {
     "name": "stdout",
     "output_type": "stream",
     "text": [
      "0.35667494393873245\n",
      "0.6931471805599453\n"
     ]
    }
   ],
   "source": [
    "import math\n",
    "\n",
    "#example values\n",
    "softmax_output = [0.7, 0.1, 0.2]\n",
    "target_output = [1, 0, 0]\n",
    "#the one hot vector is at index 0\n",
    "\n",
    "loss = -(math.log(softmax_output[0])*target_output[0] +\n",
    "         math.log(softmax_output[1])*target_output[1] +\n",
    "         math.log(softmax_output[2])*target_output[2])\n",
    "\n",
    "#(log(0.7)*1)+0+0 this is what the loss equation comes to above\n",
    "#print(loss)\n",
    "#this gives the same reuslt as above\n",
    "#simplification as there is only one calculation that is not 0 which is the one hot vector\n",
    "#loss = -math.log(softmax_output[0])\n",
    "#print(loss)\n",
    "\n",
    "#when the confidence is higher in the correct class then loss is lower\n",
    "#when the confidence is lower in the correct class the loss is higher \n",
    "print(-math.log(0.7))\n",
    "print(-math.log(0.5))\n"
   ]
  },
  {
   "cell_type": "code",
   "execution_count": null,
   "id": "cbde9030",
   "metadata": {},
   "outputs": [],
   "source": []
  }
 ],
 "metadata": {
  "kernelspec": {
   "display_name": "Python 3 (ipykernel)",
   "language": "python",
   "name": "python3"
  },
  "language_info": {
   "codemirror_mode": {
    "name": "ipython",
    "version": 3
   },
   "file_extension": ".py",
   "mimetype": "text/x-python",
   "name": "python",
   "nbconvert_exporter": "python",
   "pygments_lexer": "ipython3",
   "version": "3.9.13"
  }
 },
 "nbformat": 4,
 "nbformat_minor": 5
}
