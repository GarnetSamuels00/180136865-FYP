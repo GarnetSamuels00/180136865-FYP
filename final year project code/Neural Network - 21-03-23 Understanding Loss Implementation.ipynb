{
 "cells": [
  {
   "cell_type": "code",
   "execution_count": 4,
   "id": "12285055",
   "metadata": {},
   "outputs": [
    {
     "name": "stdout",
     "output_type": "stream",
     "text": [
      "0.38506088005216804\n"
     ]
    }
   ],
   "source": [
    "import numpy as np\n",
    "\n",
    "softmax_outputs = np.array([[0.7, 0.1, 0.2],\n",
    "                           [0.1, 0.5, 0.4],\n",
    "                           [0.02, 0.9, 0.08]])\n",
    "class_targets = [0, 1, 1]\n",
    "#indexing numpy array\n",
    "#[0, 1, 2] is for each row 1st, 2nd and 3rd row respectively\n",
    "#class targets are for the indexes in each row \n",
    "#therefore, class_targets = [0,1,1] is:\n",
    "#the first element of the first row being 0.7\n",
    "#the second element of the second row being 0.5\n",
    "#finally the second element of the third row being 0.9\n",
    "#using class targets is a concise way to get at the interested values \n",
    "#print(softmax_outputs[[0, 1, 2], class_targets])\n",
    "#print(softmax_outputs[range(len(softmax_outputs)), class_targets])\n",
    "#categorical cross entropy simplifies to being the negative log of the target classes confidence \n",
    "#the result will be the losses\n",
    "#print(-np.log(softmax_outputs[range(len(softmax_outputs)), class_targets]))\n",
    "#to calculate the loss for this batch its a mean for the losses \n",
    "neg_log = -np.log(softmax_outputs[range(len(softmax_outputs)), class_targets])\n",
    "average_loss = np.mean(neg_log)\n",
    "print(average_loss)\n",
    "#the problem with this is that the negative log of 0 is infinity\n",
    "#puting an infinity into a np.mean leads to an overflow and the batch loss also becomes infinite\n",
    "#to account for this values in a range can be clipped by an insignificant amount to no longer be dealing with infinity \n",
    "#for example clipping 1e-7 to 1-1e-7 \n",
    "#then using numpy clipped makes sure the infinity problem is handled "
   ]
  },
  {
   "cell_type": "code",
   "execution_count": null,
   "id": "a2f090a2",
   "metadata": {},
   "outputs": [],
   "source": []
  }
 ],
 "metadata": {
  "kernelspec": {
   "display_name": "Python 3 (ipykernel)",
   "language": "python",
   "name": "python3"
  },
  "language_info": {
   "codemirror_mode": {
    "name": "ipython",
    "version": 3
   },
   "file_extension": ".py",
   "mimetype": "text/x-python",
   "name": "python",
   "nbconvert_exporter": "python",
   "pygments_lexer": "ipython3",
   "version": "3.9.13"
  }
 },
 "nbformat": 4,
 "nbformat_minor": 5
}
