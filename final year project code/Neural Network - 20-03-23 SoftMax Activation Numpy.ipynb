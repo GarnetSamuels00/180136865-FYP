{
 "cells": [
  {
   "cell_type": "code",
   "execution_count": 2,
   "id": "f9f4314d",
   "metadata": {},
   "outputs": [
    {
     "name": "stdout",
     "output_type": "stream",
     "text": [
      "[0.89528266 0.02470831 0.08000903]\n",
      "0.9999999999999999\n"
     ]
    }
   ],
   "source": [
    "import math\n",
    "import numpy as np\n",
    "import nnfs \n",
    "\n",
    "nnfs.init()\n",
    "\n",
    "layer_outputs = [4.8, 1.21, 2.385]\n",
    "\n",
    "E = math.e\n",
    "\n",
    "#to exponentiate the layer output values\n",
    "#changes negative values to positive values without loosing there meaning \n",
    "exp_values =np.exp(layer_outputs)\n",
    "    \n",
    "#normalising the values\n",
    "#y = u/epsilon n i=1 ui\n",
    "\n",
    "norm_values = exp_values / np.sum(exp_values)\n",
    "\n",
    "print(norm_values)\n",
    "print(sum(norm_values))\n",
    "\n",
    "#the first list is the expontentiated values\n",
    "#the second list is the normalised exponentiated values \n",
    "#the last output is a sum that shows they all add up to almost 1\n"
   ]
  },
  {
   "cell_type": "markdown",
   "id": "0e92e71a",
   "metadata": {},
   "source": [
    "Input->Exponentiate->Normalise->output\n",
    "Input-> (the combination of Exponentiate->Normalisation = Softmax)->Output\n",
    "Input->Softmax activation function->Output \n",
    "softmax activation function equation"
   ]
  },
  {
   "cell_type": "code",
   "execution_count": null,
   "id": "36e9d235",
   "metadata": {},
   "outputs": [],
   "source": []
  }
 ],
 "metadata": {
  "kernelspec": {
   "display_name": "Python 3 (ipykernel)",
   "language": "python",
   "name": "python3"
  },
  "language_info": {
   "codemirror_mode": {
    "name": "ipython",
    "version": 3
   },
   "file_extension": ".py",
   "mimetype": "text/x-python",
   "name": "python",
   "nbconvert_exporter": "python",
   "pygments_lexer": "ipython3",
   "version": "3.9.13"
  }
 },
 "nbformat": 4,
 "nbformat_minor": 5
}
