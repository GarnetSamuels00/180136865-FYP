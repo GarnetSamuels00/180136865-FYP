{
 "cells": [
  {
   "cell_type": "markdown",
   "id": "8e0ce421",
   "metadata": {},
   "source": [
    "\n",
    "step function y= 1 x> 0 or y = 0 x <= 0 so the output of this activation function is either a 0 or a 1\n",
    "the output of the activation function becomes the input of the next neurons \n",
    "the output layer will have a different activation function than what is in the hidden layers\n",
    "sigmoid activation function f(x) = 1/ 1+e^-x\n",
    "this is more reliable than the step function for training a Neural Network because of the granularity of the output\n",
    "the next step is to calculate loss or how wrong the neural network is\n",
    "then use an optimiser to optimise the weights and the bias values to minimise/decrease loss\n",
    "to calculate this the impact of these weights and biases on the individual values need to be known \n",
    "the granularity lets us work out how close the neural network was to calculating the write value of 0 or 1 when the wrong value is chosen\n",
    "sigmoid is more reliable for training a neural network\n",
    "rectified linear unit activation function y = x x>0 or y = 0 x<=0\n",
    "the sigmoid function has a vanashing gradient problem\n",
    "rectified linear is fast because its a simple equation and it works\n",
    "if you only use weights and biases as an activation function it would be a linear activation function of y=x\n",
    "rectified linear activation function works and fits the line better than a linear function\n",
    "the reason this works is because everything is built into them being non-linear activation functions \n",
    "with a single neuron we can stregthen the input by the weigth of the neuron so the gradient of the line changes based on the weight\n",
    "the activation point in a rectified linear function is off set by tweaking the bias\n",
    "making the weight negavtive the activation function now determines at what point the input deactivates \n",
    "with a second neuron the bias offsets the line output vertically\n",
    "negating the weight for the second neuron means there is now a lower and upper bound\n",
    "if both neurons are activated then the values will be influenced otherwise it will be static \n",
    "for this example all the weights will be 0, only the weights of the neurons of the same index value and both hidden layers to simplify the concept\n",
    "the optimiser is doing things in greater dimensions than what we do not understand well\n",
    "12:00 -18:00 how a pair of neurons can fit to a rectified or nonlinear function can fit to a non lineear problem\n",
    "in this example the first 7 pairs are for the activation point, deactivation point and the slope and the offset of that specific function\n",
    "the last pair of neurons is used to offset the entire operation\n",
    "more neuron connections leads to a better fit as their are more pairs and weights to draw from \n",
    "an important field of neural networks is finding out why the neural networks do the things that they do and assign certain classifications \n",
    "this important when it comes to AI being given the power to drive us around in cars and see who gets a loan and who does not get a loan\n",
    "understanding this will allow us to audit and understand the why of what theses machines do\n",
    "and understanding why things go wrong\n",
    "the field of how neural networks and why neural networks reach the conclusion they do is an underdeveloped field \n"
   ]
  },
  {
   "cell_type": "code",
   "execution_count": 3,
   "id": "a827893e",
   "metadata": {},
   "outputs": [
    {
     "name": "stdout",
     "output_type": "stream",
     "text": [
      "[0, 2, 0, 3.3, 0, 1.1, 2.2, 0]\n",
      "[[0.00000000e+00 0.00000000e+00 0.00000000e+00 0.00000000e+00\n",
      "  0.00000000e+00]\n",
      " [0.00000000e+00 0.00000000e+00 0.00000000e+00 4.65504505e-04\n",
      "  4.56846210e-05]\n",
      " [0.00000000e+00 5.93469958e-05 0.00000000e+00 2.03573116e-04\n",
      "  6.10024377e-04]\n",
      " ...\n",
      " [1.13291524e-01 0.00000000e+00 0.00000000e+00 8.11079666e-02\n",
      "  0.00000000e+00]\n",
      " [1.34588361e-01 0.00000000e+00 3.09493970e-02 5.66337556e-02\n",
      "  0.00000000e+00]\n",
      " [1.07817926e-01 0.00000000e+00 0.00000000e+00 8.72561932e-02\n",
      "  0.00000000e+00]]\n"
     ]
    }
   ],
   "source": [
    "import numpy as np\n",
    "import nnfs\n",
    "\n",
    "from nnfs.datasets import spiral_data\n",
    "\n",
    "#sets random seed\n",
    "#sets a default data type for numpy to use\n",
    "nnfs.init()\n",
    "\n",
    "X = [[1,2,3,2.5],\n",
    "    [2.0, 5.0, -1.0, 2.0],\n",
    "    [-1.5, 2.7,3.3,-0.8]]\n",
    "...\n",
    "inputs = [0, 2, -1, 3.3, -2.7,1.1, 2.2,-100] \n",
    "output = []\n",
    "for i in inputs:\n",
    "    #if i > 0:\n",
    "    #   output.append(i)\n",
    "    #elif i <= 0:\n",
    "    #    output.append(0)\n",
    "        \n",
    "    output.append(max(0,i))\n",
    "    #appends the maximiumof 0 or i so if I is less than 0 then 0 is the max\n",
    "print(output)     \n",
    "\n",
    "#everything that is 0 and below gets changed to 0\n",
    "...\n",
    "\n",
    "X, y = spiral_data(100, 3)\n",
    "#capital 'X' denote feature sets in machine learning in general\n",
    "# lowercase 'y' is the targets or the classifications\n",
    "\n",
    "class Layer_Dense:\n",
    "    def __init__(self, n_inputs, n_neurons):\n",
    "       self.weights = 0.1 * np.random.randn(n_inputs, n_neurons)\n",
    "       self.biases = np.zeros((1, n_neurons))\n",
    "    def forward(self, inputs):\n",
    "        self.output = np.dot(inputs, self.weights) + self.biases\n",
    "\n",
    "#Pepe simply putting everything in one file instead of calling packages for different layers on different directories \n",
    "#rectified linear activation function \n",
    "class Activation_ReLU:\n",
    "    def forward (self, inputs):\n",
    "        self.output = np.maximum(0, inputs)\n",
    "\n",
    "        \n",
    "layer1 = Layer_Dense(2,5)\n",
    "#the first number is the number of inputs-number of features per sample for whether or not a server is going to fail\n",
    "#the second numnber is the number of neurons \n",
    "      \n",
    "#activation function definition\n",
    "#taking all of the inputs from our neurons and produce the activation for this entire layer\n",
    "activation1 = Activation_ReLU()\n",
    "layer1.forward(X)\n",
    "\n",
    "#print(layer1.output)\n",
    "#lots of negative values after the weights and the biases are done \n",
    "#this will run everything through the rectified linear function which should make all the negatives a 0\n",
    "activation1.forward(layer1.output)\n",
    "print(activation1.output)\n",
    "#the negative values are now replaced with 0 values \n",
    "#the optimiser will change the 0 values over time as training occurs\n",
    "#if everything still goes to 0 and the network is dying initialising biases to a non zero number for example \n",
    "#rectified linear activation function "
   ]
  },
  {
   "cell_type": "code",
   "execution_count": 7,
   "id": "b31ec628",
   "metadata": {},
   "outputs": [
    {
     "name": "stdout",
     "output_type": "stream",
     "text": [
      "Collecting nnfs\n",
      "  Downloading nnfs-0.5.1-py3-none-any.whl (9.1 kB)\n",
      "Requirement already satisfied: numpy in c:\\users\\garnet\\anaconda3\\lib\\site-packages (from nnfs) (1.21.5)\n",
      "Installing collected packages: nnfs\n",
      "Successfully installed nnfs-0.5.1\n"
     ]
    }
   ],
   "source": [
    "!pip install nnfs"
   ]
  },
  {
   "cell_type": "code",
   "execution_count": 8,
   "id": "701c9ac6",
   "metadata": {},
   "outputs": [
    {
     "name": "stdout",
     "output_type": "stream",
     "text": [
      "\n",
      "Neural Networks from Scratch in Python Tool.\n",
      "\n",
      "Basic usage:\n",
      "nnfs command [parameter1 [parameter2]]\n",
      "\n",
      "Detailed usage:\n",
      "nnfs info | code video_part [destination]\n",
      "\n",
      "Commands:\n",
      "  info    Prints information about the book\n",
      "  code    Creates a file containing the code of given video part\n",
      "          in given location. Location is optional, example:\n",
      "          nnfs code 2 nnfs/p02.py\n",
      "          will create a file p02.py in a nnfs folder containing\n",
      "          the code of part 2 of video tutorial\n",
      "    \n"
     ]
    }
   ],
   "source": [
    "!nnfs"
   ]
  },
  {
   "cell_type": "code",
   "execution_count": null,
   "id": "534cba82",
   "metadata": {},
   "outputs": [],
   "source": []
  }
 ],
 "metadata": {
  "kernelspec": {
   "display_name": "Python 3 (ipykernel)",
   "language": "python",
   "name": "python3"
  },
  "language_info": {
   "codemirror_mode": {
    "name": "ipython",
    "version": 3
   },
   "file_extension": ".py",
   "mimetype": "text/x-python",
   "name": "python",
   "nbconvert_exporter": "python",
   "pygments_lexer": "ipython3",
   "version": "3.9.13"
  }
 },
 "nbformat": 4,
 "nbformat_minor": 5
}
