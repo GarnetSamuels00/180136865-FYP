{
 "cells": [
  {
   "cell_type": "code",
   "execution_count": 9,
   "id": "f9f4314d",
   "metadata": {},
   "outputs": [
    {
     "name": "stdout",
     "output_type": "stream",
     "text": [
      "[[8.95282664e-01 2.47083068e-02 8.00090293e-02]\n",
      " [9.99811129e-01 2.23163963e-05 1.66554348e-04]\n",
      " [5.13097164e-01 3.58333899e-01 1.28568936e-01]]\n"
     ]
    }
   ],
   "source": [
    "import numpy as np\n",
    "import nnfs \n",
    "\n",
    "nnfs.init()\n",
    "\n",
    "layer_outputs = [[4.8, 1.21, 2.385],\n",
    "                [8.9, -1.81, 0.2],\n",
    "                [1.41, 1.051, 0.026]]\n",
    "\n",
    "#to exponentiate the layer output values\n",
    "#changes negative values to positive values without loosing there meaning \n",
    "exp_values =np.exp(layer_outputs)\n",
    "#the sum of columns \n",
    "#print(np.sum(layer_outputs, axis=0))\n",
    "#the sum os the rows\n",
    "#print(np.sum(layer_outputs, axis=1))\n",
    "#dividing the matrix of exponential values and make sure the right values line up\n",
    "#a matrix of the same dimensions\n",
    "#print(np.sum(layer_outputs, axis=1,keepdims=True))\n",
    "    \n",
    "#normalising the values\n",
    "#y = u/epsilon n i=1 ui\n",
    "\n",
    "norm_values = exp_values / np.sum(exp_values, axis=1, keepdims=True )\n",
    "#prints normalised values\n",
    "print(norm_values)\n",
    "\n",
    "#print(sum(norm_values))\n",
    "\n",
    "#the first list is the expontentiated values\n",
    "#the second list is the normalised exponentiated values \n",
    "#the last output is a sum that shows they all add up to almost 1\n",
    "\n",
    "#exponential values means that it doesnt take long to get exponential values and it does not take long to reach an overflow\n",
    "#overflow prevention v = u - max(u)this subtracts the largest value in that layer from all of the values in that layer before exponentiation \n",
    "#the largest value will be a 0 and everything else will be less than 0\n",
    "#the range of values is now (0, 1) on the y axis and (-infinity,0) on the x axis\n",
    "#if there is 2 output layers and 1 the max is not subtracted from and 1 the max is subtracted from the outputs will be the same\n",
    "#subtracting the max stops there being an overflow "
   ]
  },
  {
   "cell_type": "markdown",
   "id": "0e92e71a",
   "metadata": {},
   "source": [
    "Input->Exponentiate->Normalise->output\n",
    "Input-> (the combination of Exponentiate->Normalisation = Softmax)->Output\n",
    "Input->Softmax activation function->Output \n",
    "softmax activation function equation"
   ]
  },
  {
   "cell_type": "code",
   "execution_count": null,
   "id": "36e9d235",
   "metadata": {},
   "outputs": [],
   "source": []
  }
 ],
 "metadata": {
  "kernelspec": {
   "display_name": "Python 3 (ipykernel)",
   "language": "python",
   "name": "python3"
  },
  "language_info": {
   "codemirror_mode": {
    "name": "ipython",
    "version": 3
   },
   "file_extension": ".py",
   "mimetype": "text/x-python",
   "name": "python",
   "nbconvert_exporter": "python",
   "pygments_lexer": "ipython3",
   "version": "3.9.13"
  }
 },
 "nbformat": 4,
 "nbformat_minor": 5
}
