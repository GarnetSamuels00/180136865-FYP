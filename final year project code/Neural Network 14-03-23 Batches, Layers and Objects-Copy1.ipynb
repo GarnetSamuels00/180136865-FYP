{
 "cells": [
  {
   "cell_type": "code",
   "execution_count": 2,
   "id": "b6b216a5",
   "metadata": {},
   "outputs": [
    {
     "name": "stdout",
     "output_type": "stream",
     "text": [
      "[[ 0.8419   -1.04185  -2.03875 ]\n",
      " [-0.2634   -2.7332   -5.7633  ]\n",
      " [ 0.346336  0.597809  0.196278]]\n"
     ]
    }
   ],
   "source": [
    "import numpy as np \n",
    "\n",
    "inputs = [[1.0, 2.0, 3.0, 2.5],\n",
    "         [2.0, 5.0, -1.0, 2.0],\n",
    "          [-0.26, -0.27, 0.17, 0.87]]\n",
    "#features of a single sample\n",
    "#showing the algorithm multiple samples allows for generalisation\n",
    "#this makes drawing a line a better representation\n",
    "#learning rate how much of the previous knowledge is keep moving forward\n",
    "#if you show all the samples at once this will cause overfitting \n",
    "#batch sizes of 32 or 64 are normally common \n",
    "weights = [[0.2, 0.8, -0.5, 1.0],\n",
    "           [0.5, -0.91, 0.26, -0.5],\n",
    "           [-0.26, -0.27, 0.17, 0.87]] \n",
    "\n",
    "biases = [2.0, 3.0, 0.5]\n",
    "\n",
    "weights2 = [[0.1, 0.14, 0.5],\n",
    "           [-0.5, 0.12, -0.33],\n",
    "           [-0.44, 0.73, -0.13]] \n",
    "\n",
    "biases2 = [-1, 2.0, -0.5]\n",
    "\n",
    "layer1_outputs = np.dot(inputs, np.array(weights).T) + biases\n",
    "layer2_outputs = np.dot(layer1_outputs, np.array(weights2).T) + biases2\n",
    "print(layer2_outputs)"
   ]
  },
  {
   "cell_type": "markdown",
   "id": "b8be6d00",
   "metadata": {},
   "source": [
    "Matrix dot product \n",
    "The dimensions of columns in the first matrix has to match the dimensions of rows in the second matrix.\n",
    "adding the biases row vector to each of the rows from the matrix product output by adding each element together at the same index.\n",
    "\n",
    "Using the nth column of the first matrix and the nth row of the second matrix multiply the elemnts together by order then add the outputs together. This sum then populates the new matrix of final answers and the process is then iterated over agian until all the dimensions of the matrix is populated. "
   ]
  },
  {
   "cell_type": "markdown",
   "id": "7da07f1d",
   "metadata": {},
   "source": [
    "transpose can be used to swap the rows and the columns "
   ]
  }
 ],
 "metadata": {
  "kernelspec": {
   "display_name": "Python 3 (ipykernel)",
   "language": "python",
   "name": "python3"
  },
  "language_info": {
   "codemirror_mode": {
    "name": "ipython",
    "version": 3
   },
   "file_extension": ".py",
   "mimetype": "text/x-python",
   "name": "python",
   "nbconvert_exporter": "python",
   "pygments_lexer": "ipython3",
   "version": "3.9.13"
  }
 },
 "nbformat": 4,
 "nbformat_minor": 5
}
