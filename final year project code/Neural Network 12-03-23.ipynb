{
 "cells": [
  {
   "cell_type": "code",
   "execution_count": 3,
   "id": "91a5a2e8",
   "metadata": {},
   "outputs": [
    {
     "name": "stdout",
     "output_type": "stream",
     "text": [
      "python: 3.9.13 (main, Aug 25 2022, 23:51:50) [MSC v.1916 64 bit (AMD64)]\n",
      "Numpy: <module 'numpy._version' from 'C:\\\\Users\\\\Garnet\\\\anaconda3\\\\lib\\\\site-packages\\\\numpy\\\\_version.py'>\n",
      "Matplotlib:  3.5.2\n"
     ]
    }
   ],
   "source": [
    "import sys\n",
    "import numpy as np\n",
    "import matplotlib \n",
    "\n",
    "print(\"python:\", sys.version)\n",
    "print(\"Numpy:\", np._version)\n",
    "print(\"Matplotlib: \", matplotlib.__version__)"
   ]
  },
  {
   "cell_type": "markdown",
   "id": "d1151379",
   "metadata": {},
   "source": [
    "Densley connected, feed forward, multilayered perceptron model"
   ]
  },
  {
   "cell_type": "code",
   "execution_count": 6,
   "id": "1ab2d76c",
   "metadata": {},
   "outputs": [
    {
     "name": "stdout",
     "output_type": "stream",
     "text": [
      "2.3\n"
     ]
    }
   ],
   "source": [
    "#inputs from 3 neurons in the previous layer \n",
    "#numbers made up for neurons \n",
    "inputs = [1, 2, 3]\n",
    "weights = [0.2, 0.8, -0.5]\n",
    "# there are 3 connections to the neuron but only one bias associated with the neuron after the input layer \n",
    "# the output layer has 4 inputs in this example \n",
    "bias  = 2\n",
    "output = inputs[0]*weights[0] + inputs[1]*weights[1] + inputs[2]*weights[2] + bias\n",
    "print(output)"
   ]
  },
  {
   "cell_type": "code",
   "execution_count": 8,
   "id": "d10b2b6d",
   "metadata": {},
   "outputs": [
    {
     "name": "stdout",
     "output_type": "stream",
     "text": [
      "4.8\n"
     ]
    }
   ],
   "source": [
    "#inputs from 3 neurons in the previous layer \n",
    "#numbers made up for neurons\n",
    "# the output layer has 4 inputs in this example \n",
    "inputs = [1, 2, 3, 2.5]\n",
    "weights = [0.2, 0.8, -0.5, 1.0] \n",
    "bias  = 2\n",
    "output = inputs[0]*weights[0] + inputs[1]*weights[1] + inputs[2]*weights[2] + inputs[3]*weights[3] + bias\n",
    "print(output)"
   ]
  },
  {
   "cell_type": "code",
   "execution_count": 9,
   "id": "96d0caed",
   "metadata": {},
   "outputs": [
    {
     "name": "stdout",
     "output_type": "stream",
     "text": [
      "[4.8, 1.21, 2.385]\n"
     ]
    }
   ],
   "source": [
    "#modelling 3 neurons with 4 of the same inputs  \n",
    "#there is going to be 3 unique weight sets and each weight set is going to have 4 values/ weights\n",
    "#3 unique biases  \n",
    "#numbers made up for neurons\n",
    "# the output layer has 4 inputs in this example \n",
    "#changing the output values \n",
    "#input data will be data from the chosen features from the basketball.csv dataset\n",
    "#changing and tuning the inputs will be done through changing and adjusting weights and biases to get the desired output\n",
    "inputs = [1, 2, 3, 2.5]#vector\n",
    "\n",
    "\n",
    "weights = [[0.2, 0.8, -0.5, 1.0],\n",
    "          [0.5, -0.91, 0.26, -0.5],\n",
    "          [-0.26, -0.27, 0.17, 0.87]]#matrix of vectors\n",
    "\n",
    "biases = [2, 3, 0.5]#vector\n",
    "\n",
    "...\n",
    "layer_outputs = [] #Output of current layer\n",
    "#zip combines two lists together element-wise\n",
    "#the 0th element of weights and biases and then iterating over all the other lists\n",
    "for neuron_weights, neuron_bias, in zip(weights, biases):\n",
    "    neuron_output = 0 # Output of given neuron\n",
    "    for n_input, weight in zip(inputs, neuron_weights):\n",
    "        neuron_output += n_input*weight\n",
    "    neuron_output+= neuron_bias\n",
    "    layer_outputs.append(neuron_output)\n",
    "    \n",
    "print(layer_outputs)\n",
    "...\n"
   ]
  },
  {
   "cell_type": "markdown",
   "id": "c211154c",
   "metadata": {},
   "source": [
    "Adjusting weights and biases to get the desired outputs is important "
   ]
  },
  {
   "cell_type": "markdown",
   "id": "d7f2f2b4",
   "metadata": {},
   "source": [
    "Activation functions determine that final output before it becomes an input to another layer or the output of the neural network\n",
    "weight changes the magnitude of the output \n",
    "bias offsets the output node\n",
    "y=mx+b for a line"
   ]
  },
  {
   "cell_type": "markdown",
   "id": "42603e42",
   "metadata": {},
   "source": [
    "Array l = [1,5,6,2] #list numbpi\n",
    "shape:(4,)\n",
    "Type: 1D array, Vector "
   ]
  },
  {
   "cell_type": "markdown",
   "id": "265b0ec6",
   "metadata": {},
   "source": [
    "Array: lol = [[1,5,6,2], [3,2,1,3]] (list of lists = lol)Shape:(2 (amount of lists),4 (number of elements in each list)) Type: 2D Array, Matrix Arrays have to be homolegous which means each element of the list has to be the same dimension a matrix is a rectangular array "
   ]
  },
  {
   "cell_type": "markdown",
   "id": "2b5ff4aa",
   "metadata": {},
   "source": [
    "Array: lolol = [[[1,5,6,2],[3,2,1,3]],[[5,2,1,2],[6,4,8,4]],[[2,8,5,3],[1,1,9,4]]]\n",
    "    shape : (3, 2, 4)\n",
    "        type: 3D Array"
   ]
  },
  {
   "cell_type": "markdown",
   "id": "66818b8e",
   "metadata": {},
   "source": [
    "A tensor is an object that can be represented as an array in deep learning . A tensor is not an array"
   ]
  },
  {
   "cell_type": "markdown",
   "id": "d93e3c7d",
   "metadata": {},
   "source": [
    "a = [1,2,3]\n",
    "b = [2,3,4]\n",
    "\n",
    "dot_product = a[0]*b[0] + a[1]*b[1] + a[2]*b[2]\n",
    "\n",
    "a.b = [1,2,3].[2,3,4] = 1.2 + 2.3 + 3.4 = 20\n",
    "\n",
    "The dot product of two vectors gives a scalar single value"
   ]
  },
  {
   "cell_type": "code",
   "execution_count": null,
   "id": "521c291e",
   "metadata": {},
   "outputs": [],
   "source": []
  }
 ],
 "metadata": {
  "kernelspec": {
   "display_name": "Python 3 (ipykernel)",
   "language": "python",
   "name": "python3"
  },
  "language_info": {
   "codemirror_mode": {
    "name": "ipython",
    "version": 3
   },
   "file_extension": ".py",
   "mimetype": "text/x-python",
   "name": "python",
   "nbconvert_exporter": "python",
   "pygments_lexer": "ipython3",
   "version": "3.9.13"
  }
 },
 "nbformat": 4,
 "nbformat_minor": 5
}
