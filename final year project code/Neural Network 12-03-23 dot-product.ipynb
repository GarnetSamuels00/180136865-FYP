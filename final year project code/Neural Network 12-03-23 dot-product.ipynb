{
 "cells": [
  {
   "cell_type": "code",
   "execution_count": 5,
   "id": "b6b216a5",
   "metadata": {},
   "outputs": [
    {
     "name": "stdout",
     "output_type": "stream",
     "text": [
      "[4.8   1.21  2.385]\n"
     ]
    }
   ],
   "source": [
    "'''\n",
    "Doing dot product with a layer of neurons and multiple inputs\n",
    "Associated YT NNFS tutorial: https://www.youtube.com/watch?v=tMrbN67U9d4\n",
    "'''\n",
    "\n",
    "import numpy as np \n",
    "\n",
    "inputs = [1.0, 2.0, 3.0, 2.5]\n",
    "weights = [[0.2, 0.8, -0.5, 1.0],\n",
    "           [0.5, -0.91, 0.26, -0.5],\n",
    "           [-0.26, -0.27, 0.17, 0.87]] #layer of 3 neurons, matrix of vectors\n",
    "\n",
    "biases = [2.0, 3.0, 0.5]\n",
    "\n",
    "output = np.dot(weights, inputs) + biases\n",
    "print(output)"
   ]
  },
  {
   "cell_type": "markdown",
   "id": "1dd110c9",
   "metadata": {},
   "source": [
    "The calculations being done to produce the outputs \n",
    "\n",
    "inputs = [1.0, 2.0, 3.0, 2.5] \n",
    "weights = [0.2, 0.8, -0.5, 1.0]\n",
    "bias = 2.0\n",
    "\n",
    "output = np.dot(weights, inputs) + biases\n",
    "\n",
    "a.b = [1.0, 2.0, 3.0, 2.5].[0.2, 0.8, -0.5, 1.0] = 0.2*1.0 + 0.8*2.0 + -0.5*3.0 + 1.0*2.5 = 2.8 then 2.8 + 2.0(0th/first bias) = 4.8\n",
    "\n",
    "The dot product of two vectors gives a scalar single value\n",
    "The dot product calculation is then done for the matrix of vectors\n",
    "weights is a matrix of three vectors it will return an array of values that will be the dot product of the first weights and inputs the second weights and inputs and the third weights and inputs then add these vector values with the vector values of biases to get the three final output values of [4.8, 1.21, 2.385]\n",
    "​\n",
    "next is part 4"
   ]
  },
  {
   "cell_type": "markdown",
   "id": "a32926d8",
   "metadata": {},
   "source": [
    "output = weight.input + bias\n",
    "y = mx + c\n",
    "imagine a streaight line in a 2D graph y axis and x axis \n",
    "Activation functions or activation points ReLU\n",
    "output = ReLU(weight.input + bias)"
   ]
  }
 ],
 "metadata": {
  "kernelspec": {
   "display_name": "Python 3 (ipykernel)",
   "language": "python",
   "name": "python3"
  },
  "language_info": {
   "codemirror_mode": {
    "name": "ipython",
    "version": 3
   },
   "file_extension": ".py",
   "mimetype": "text/x-python",
   "name": "python",
   "nbconvert_exporter": "python",
   "pygments_lexer": "ipython3",
   "version": "3.9.13"
  }
 },
 "nbformat": 4,
 "nbformat_minor": 5
}
