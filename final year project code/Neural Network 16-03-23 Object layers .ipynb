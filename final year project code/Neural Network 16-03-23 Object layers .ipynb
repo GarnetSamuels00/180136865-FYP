{
 "cells": [
  {
   "cell_type": "code",
   "execution_count": 11,
   "id": "b6b216a5",
   "metadata": {},
   "outputs": [
    {
     "name": "stdout",
     "output_type": "stream",
     "text": [
      "[[ 0.148296   -0.08397602]\n",
      " [ 0.14100315 -0.01340469]\n",
      " [ 0.00699228 -0.0458455 ]]\n"
     ]
    }
   ],
   "source": [
    "import numpy as np \n",
    "\n",
    "#sample data\n",
    "#Scaling the input data is what is done\n",
    "\n",
    "np.random.seed(0)\n",
    "\n",
    "X = [[1.0, 2.0, 3.0, 2.5],\n",
    "     [2.0, 5.0, -1.0, 2.0],\n",
    "     [-1.5, -2.7, 3.3, -0.8]]\n",
    "#the changes that happen in the hidden layer is not defined\n",
    "#define the optimiser  \n",
    "#define various parameters for the optimisers and hyper-parameters \n",
    "#the neural network is responsible for tweaking that \n",
    "#small values are optimal values in the range of -1 to 1\n",
    "#normalise and scale the values so the values are between -1 and 1\n",
    "#weights are initialised between -0.1 and 0.1\n",
    "#biases are initialised as 0 but if this remains 0 start off biases as a non zero number\n",
    "#a dead network\n",
    "#randn is a bell shaped curve bounded around 0\n",
    "#the first parameter is the shape for n.zeros, a tuple of the shape \n",
    "#np.random.randn the parameters are the shape \n",
    "#both functions return a matrix for the shape of the parameters inside np.random.rand and np.zeros \n",
    "#the shape of weights is n_inputs by the number of neurons\n",
    "#this has been changed from how weights was previously shaped by number of neurons by number of inputs\n",
    "#this stops the need for a transpose for the forward pass\n",
    "\n",
    "class Layer_Dense:\n",
    "    def __init__(self, n_inputs, n_neurons):\n",
    "       self.weights = 0.1 * np.random.randn(n_inputs, n_neurons)\n",
    "       self.biases = np.zeros((1, n_neurons))\n",
    "    def forward(self, inputs):\n",
    "        self.output = np.dot(inputs, self.weights) + self.biases\n",
    "        \n",
    "#2 layer objects to pass data through\n",
    "#4 is used because there is 4 neurons in the example input data\n",
    "layer1 = Layer_Dense(4,5)\n",
    "#the output(second number) is going to be the input for layer 2 (the first number)\n",
    "layer2 = Layer_Dense(5,2)\n",
    "\n",
    "#layer 1 and 2 output values\n",
    "layer1.forward(X)\n",
    "#print(layer1.output)\n",
    "layer2.forward(layer1.output)\n",
    "print(layer2.output)\n",
    "    \n",
    "#dense layer object completing a forward pass of data next is activation functions"
   ]
  },
  {
   "cell_type": "code",
   "execution_count": null,
   "id": "14cc4935",
   "metadata": {},
   "outputs": [],
   "source": []
  }
 ],
 "metadata": {
  "kernelspec": {
   "display_name": "Python 3 (ipykernel)",
   "language": "python",
   "name": "python3"
  },
  "language_info": {
   "codemirror_mode": {
    "name": "ipython",
    "version": 3
   },
   "file_extension": ".py",
   "mimetype": "text/x-python",
   "name": "python",
   "nbconvert_exporter": "python",
   "pygments_lexer": "ipython3",
   "version": "3.9.13"
  }
 },
 "nbformat": 4,
 "nbformat_minor": 5
}
